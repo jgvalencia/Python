{
 "cells": [
  {
   "cell_type": "code",
   "execution_count": 1,
   "id": "58a7145e",
   "metadata": {},
   "outputs": [],
   "source": [
    "import pandas as pd\n",
    "import os\n"
   ]
  },
  {
   "cell_type": "code",
   "execution_count": null,
   "id": "6c83bb0a",
   "metadata": {},
   "outputs": [],
   "source": [
    "df = pd.read_csv(\"./Sales_Data/Sales_April_2019.csv\")\n",
    "df"
   ]
  },
  {
   "cell_type": "code",
   "execution_count": null,
   "id": "5a58ac1b",
   "metadata": {},
   "outputs": [],
   "source": [
    "files = [file for file in os.listdir('./Sales_Data')]\n",
    "files"
   ]
  },
  {
   "cell_type": "code",
   "execution_count": null,
   "id": "40f9781b",
   "metadata": {},
   "outputs": [],
   "source": [
    "file[2]"
   ]
  },
  {
   "cell_type": "code",
   "execution_count": null,
   "id": "2b159f53",
   "metadata": {},
   "outputs": [],
   "source": [
    "all_months_data = pd.DataFrame()\n",
    "all_months_data.head()\n"
   ]
  },
  {
   "cell_type": "code",
   "execution_count": null,
   "id": "a3db4a70",
   "metadata": {},
   "outputs": [],
   "source": [
    "for file in files:\n",
    "    df = pd.read_csv(\"./Sales_Data/\"+file)\n",
    "    all_months_data = pd.concat([all_months_data, df])\n",
    "    \n",
    "file"
   ]
  },
  {
   "cell_type": "code",
   "execution_count": null,
   "id": "c0b95d43",
   "metadata": {},
   "outputs": [],
   "source": [
    "df"
   ]
  },
  {
   "cell_type": "code",
   "execution_count": null,
   "id": "af8b9831",
   "metadata": {},
   "outputs": [],
   "source": [
    "all_months_data"
   ]
  },
  {
   "cell_type": "code",
   "execution_count": null,
   "id": "5f49255c",
   "metadata": {},
   "outputs": [],
   "source": [
    "nan_df = all_months_data[all_months_data.isna().any(axis=1)]\n",
    "nan_df.head()"
   ]
  },
  {
   "cell_type": "code",
   "execution_count": null,
   "id": "4811f7c6",
   "metadata": {},
   "outputs": [],
   "source": [
    "temp_df = all_months_data[all_months_data['Order Date'].str[0:2] == 'Or']\n",
    "temp_df.head()"
   ]
  },
  {
   "cell_type": "code",
   "execution_count": null,
   "id": "f89d0f84",
   "metadata": {},
   "outputs": [],
   "source": [
    "print('hello world')"
   ]
  },
  {
   "cell_type": "code",
   "execution_count": null,
   "id": "407808e4",
   "metadata": {},
   "outputs": [],
   "source": [
    "name=input(\"Enter your name \")\n",
    "print(\"Hi \", name)"
   ]
  },
  {
   "cell_type": "markdown",
   "id": "4dfbb5a3",
   "metadata": {},
   "source": [
    "# Type of Variables\n"
   ]
  },
  {
   "cell_type": "code",
   "execution_count": null,
   "id": "cc005024",
   "metadata": {},
   "outputs": [],
   "source": [
    "x=100\n",
    "type(x)"
   ]
  },
  {
   "cell_type": "code",
   "execution_count": null,
   "id": "79812f8e",
   "metadata": {},
   "outputs": [],
   "source": [
    "x=654*1000\n",
    "print(x)\n",
    "type(x)"
   ]
  },
  {
   "cell_type": "code",
   "execution_count": null,
   "id": "315cde90",
   "metadata": {},
   "outputs": [],
   "source": [
    "x=3.14\n",
    "type(x)"
   ]
  },
  {
   "cell_type": "code",
   "execution_count": null,
   "id": "63420c89",
   "metadata": {},
   "outputs": [],
   "source": [
    "x = \"hola\"\n",
    "print(x)"
   ]
  },
  {
   "cell_type": "code",
   "execution_count": null,
   "id": "997df6ef",
   "metadata": {},
   "outputs": [],
   "source": [
    "type(x)"
   ]
  },
  {
   "cell_type": "code",
   "execution_count": null,
   "id": "6490ee77",
   "metadata": {},
   "outputs": [],
   "source": [
    "#We can change values in the list\n",
    "x = [10, 20, 30, 40]\n",
    "print(x)\n",
    "type(x)"
   ]
  },
  {
   "cell_type": "code",
   "execution_count": null,
   "id": "0e590ee2",
   "metadata": {},
   "outputs": [],
   "source": [
    "#We cannot change values in the tuple\n",
    "x = (1,2,3,4,5)\n",
    "print(x)\n",
    "type(x)"
   ]
  },
  {
   "cell_type": "code",
   "execution_count": null,
   "id": "ae8dc113",
   "metadata": {},
   "outputs": [],
   "source": [
    "(x,y,z)=10,20,30\n",
    "print(x)\n",
    "print(y)\n",
    "print(z)"
   ]
  },
  {
   "cell_type": "code",
   "execution_count": null,
   "id": "9558f180",
   "metadata": {},
   "outputs": [],
   "source": [
    "#Same value to multiple variables\n",
    "(x,y,z)=1,1,1\n",
    "print(x,y,z)"
   ]
  },
  {
   "cell_type": "code",
   "execution_count": null,
   "id": "bd94e769",
   "metadata": {},
   "outputs": [],
   "source": [
    "x=y=z=2\n",
    "print(x,y,z)"
   ]
  },
  {
   "cell_type": "code",
   "execution_count": null,
   "id": "397295a4",
   "metadata": {},
   "outputs": [],
   "source": [
    "x=20\n",
    "y=10"
   ]
  },
  {
   "cell_type": "code",
   "execution_count": null,
   "id": "d45cfc11",
   "metadata": {},
   "outputs": [],
   "source": [
    "results = x+y\n",
    "print(results)"
   ]
  },
  {
   "cell_type": "code",
   "execution_count": null,
   "id": "018a37e6",
   "metadata": {},
   "outputs": [],
   "source": [
    "results = x-y\n",
    "print(results)"
   ]
  },
  {
   "cell_type": "code",
   "execution_count": null,
   "id": "ba9c6628",
   "metadata": {},
   "outputs": [],
   "source": [
    "results = x*y\n",
    "print(results)"
   ]
  },
  {
   "cell_type": "code",
   "execution_count": null,
   "id": "515d0919",
   "metadata": {},
   "outputs": [],
   "source": [
    "results = x/y\n",
    "print(results)"
   ]
  },
  {
   "cell_type": "code",
   "execution_count": null,
   "id": "7c52f80d",
   "metadata": {},
   "outputs": [],
   "source": [
    "results = x//y\n",
    "print(results)"
   ]
  },
  {
   "cell_type": "code",
   "execution_count": null,
   "id": "e94b5b7e",
   "metadata": {},
   "outputs": [],
   "source": [
    "results = 2/3\n",
    "print(results)"
   ]
  },
  {
   "cell_type": "code",
   "execution_count": null,
   "id": "78617420",
   "metadata": {},
   "outputs": [],
   "source": [
    "results = 2//3\n",
    "print(results)"
   ]
  },
  {
   "cell_type": "code",
   "execution_count": 2,
   "id": "e5cc21bf",
   "metadata": {},
   "outputs": [
    {
     "data": {
      "text/plain": [
       "str"
      ]
     },
     "execution_count": 2,
     "metadata": {},
     "output_type": "execute_result"
    }
   ],
   "source": [
    "x='192'\n",
    "type(x)"
   ]
  },
  {
   "cell_type": "markdown",
   "id": "cbd330b4",
   "metadata": {},
   "source": [
    "### Functions and Conversions"
   ]
  },
  {
   "cell_type": "code",
   "execution_count": 6,
   "id": "2b45bf1c",
   "metadata": {},
   "outputs": [
    {
     "name": "stdout",
     "output_type": "stream",
     "text": [
      "192\n"
     ]
    }
   ],
   "source": [
    "x=int(x)\n",
    "print(x)"
   ]
  },
  {
   "cell_type": "code",
   "execution_count": 8,
   "id": "732e164c",
   "metadata": {},
   "outputs": [
    {
     "name": "stdout",
     "output_type": "stream",
     "text": [
      "192.0\n"
     ]
    }
   ],
   "source": [
    "x=float(x)\n",
    "print(x)"
   ]
  },
  {
   "cell_type": "code",
   "execution_count": 9,
   "id": "e8f9265f",
   "metadata": {},
   "outputs": [
    {
     "name": "stdout",
     "output_type": "stream",
     "text": [
      "(192+0j)\n"
     ]
    }
   ],
   "source": [
    "x=complex(x)\n",
    "print(x)"
   ]
  },
  {
   "cell_type": "code",
   "execution_count": 11,
   "id": "c325d48b",
   "metadata": {},
   "outputs": [
    {
     "name": "stdout",
     "output_type": "stream",
     "text": [
      "7.5\n"
     ]
    }
   ],
   "source": [
    "x=-7.5\n",
    "print(abs(x))"
   ]
  },
  {
   "cell_type": "code",
   "execution_count": 12,
   "id": "858d06c9",
   "metadata": {},
   "outputs": [
    {
     "name": "stdout",
     "output_type": "stream",
     "text": [
      "22026.465794806718\n"
     ]
    }
   ],
   "source": [
    "import math\n",
    "x=10\n",
    "print(math.exp(x))"
   ]
  },
  {
   "cell_type": "code",
   "execution_count": 13,
   "id": "d70c5e90",
   "metadata": {},
   "outputs": [
    {
     "data": {
      "text/plain": [
       "2.718281828459045"
      ]
     },
     "execution_count": 13,
     "metadata": {},
     "output_type": "execute_result"
    }
   ],
   "source": [
    "math.e"
   ]
  },
  {
   "cell_type": "code",
   "execution_count": 14,
   "id": "3439e16b",
   "metadata": {},
   "outputs": [
    {
     "data": {
      "text/plain": [
       "3.141592653589793"
      ]
     },
     "execution_count": 14,
     "metadata": {},
     "output_type": "execute_result"
    }
   ],
   "source": [
    "math.pi"
   ]
  },
  {
   "cell_type": "code",
   "execution_count": 16,
   "id": "7430bd5d",
   "metadata": {},
   "outputs": [
    {
     "name": "stdout",
     "output_type": "stream",
     "text": [
      "3.0\n"
     ]
    }
   ],
   "source": [
    "print(math.sqrt(9))"
   ]
  },
  {
   "cell_type": "code",
   "execution_count": 18,
   "id": "5f04dc58",
   "metadata": {},
   "outputs": [
    {
     "data": {
      "text/plain": [
       "1000"
      ]
     },
     "execution_count": 18,
     "metadata": {},
     "output_type": "execute_result"
    }
   ],
   "source": [
    "max(1,10,100,1000)"
   ]
  },
  {
   "cell_type": "markdown",
   "id": "9a8ac0e5",
   "metadata": {},
   "source": [
    "### Creating Lists"
   ]
  },
  {
   "cell_type": "code",
   "execution_count": 20,
   "id": "e4364b2d",
   "metadata": {},
   "outputs": [
    {
     "name": "stdout",
     "output_type": "stream",
     "text": [
      "[1, 2, 3, 4]\n"
     ]
    }
   ],
   "source": [
    "num = [1,2,3,4]\n",
    "print(num)"
   ]
  },
  {
   "cell_type": "code",
   "execution_count": 21,
   "id": "3d3f69e7",
   "metadata": {},
   "outputs": [
    {
     "name": "stdout",
     "output_type": "stream",
     "text": [
      "['a', 'b', 'c', 'd']\n"
     ]
    }
   ],
   "source": [
    "letter = ['a','b','c','d']\n",
    "print(letter)"
   ]
  },
  {
   "cell_type": "code",
   "execution_count": 22,
   "id": "e2c2b8a5",
   "metadata": {},
   "outputs": [
    {
     "name": "stdout",
     "output_type": "stream",
     "text": [
      "['hola', 'como estas', 'bien y tu']\n"
     ]
    }
   ],
   "source": [
    "#String\n",
    "stg = ['hola','como estas','bien y tu']\n",
    "print(stg)\n"
   ]
  },
  {
   "cell_type": "code",
   "execution_count": 30,
   "id": "e4fa6980",
   "metadata": {},
   "outputs": [
    {
     "name": "stdout",
     "output_type": "stream",
     "text": [
      "[1, 2, 'hola', 'get', 'como estas']\n"
     ]
    }
   ],
   "source": [
    "#Mix int and strings\n",
    "mix = [1,2,'hola','get','como estas']\n",
    "print(mix)"
   ]
  },
  {
   "cell_type": "code",
   "execution_count": 24,
   "id": "40bba48e",
   "metadata": {},
   "outputs": [
    {
     "name": "stdout",
     "output_type": "stream",
     "text": [
      "[[1, 2], ['a', 'b']]\n"
     ]
    }
   ],
   "source": [
    "mat=[[1,2],['a','b']]\n",
    "print(mat)"
   ]
  },
  {
   "cell_type": "markdown",
   "id": "da579301",
   "metadata": {},
   "source": [
    "### Accessing Elements in lists"
   ]
  },
  {
   "cell_type": "code",
   "execution_count": 35,
   "id": "b4f3f904",
   "metadata": {},
   "outputs": [
    {
     "data": {
      "text/plain": [
       "'get'"
      ]
     },
     "execution_count": 35,
     "metadata": {},
     "output_type": "execute_result"
    }
   ],
   "source": [
    "# Index from front starts in zero, from last starts with -1\n",
    "mix[3]"
   ]
  },
  {
   "cell_type": "code",
   "execution_count": 36,
   "id": "f84502c7",
   "metadata": {},
   "outputs": [
    {
     "data": {
      "text/plain": [
       "'get'"
      ]
     },
     "execution_count": 36,
     "metadata": {},
     "output_type": "execute_result"
    }
   ],
   "source": [
    "mix[-2]"
   ]
  },
  {
   "cell_type": "code",
   "execution_count": 38,
   "id": "681d9e0d",
   "metadata": {},
   "outputs": [
    {
     "data": {
      "text/plain": [
       "[1, 2, 'hola']"
      ]
     },
     "execution_count": 38,
     "metadata": {},
     "output_type": "execute_result"
    }
   ],
   "source": [
    "mix[:3]"
   ]
  },
  {
   "cell_type": "code",
   "execution_count": 37,
   "id": "db80fd1f",
   "metadata": {},
   "outputs": [
    {
     "data": {
      "text/plain": [
       "['get', 'como estas']"
      ]
     },
     "execution_count": 37,
     "metadata": {},
     "output_type": "execute_result"
    }
   ],
   "source": [
    "mix[3:]"
   ]
  },
  {
   "cell_type": "code",
   "execution_count": 39,
   "id": "12f2df0c",
   "metadata": {},
   "outputs": [
    {
     "data": {
      "text/plain": [
       "['hola', 'get']"
      ]
     },
     "execution_count": 39,
     "metadata": {},
     "output_type": "execute_result"
    }
   ],
   "source": [
    "mix[2:4]"
   ]
  },
  {
   "cell_type": "code",
   "execution_count": 40,
   "id": "f40455c4",
   "metadata": {},
   "outputs": [
    {
     "data": {
      "text/plain": [
       "[1, 'hola', 'como estas']"
      ]
     },
     "execution_count": 40,
     "metadata": {},
     "output_type": "execute_result"
    }
   ],
   "source": [
    "#skip every 2 elements\n",
    "mix[::2]"
   ]
  },
  {
   "cell_type": "code",
   "execution_count": 42,
   "id": "6f3bcb13",
   "metadata": {},
   "outputs": [
    {
     "data": {
      "text/plain": [
       "['como estas', 'get', 'hola', 2, 1]"
      ]
     },
     "execution_count": 42,
     "metadata": {},
     "output_type": "execute_result"
    }
   ],
   "source": [
    "#revert elements of list\n",
    "mix[::-1]"
   ]
  },
  {
   "cell_type": "markdown",
   "id": "3f6c8ddb",
   "metadata": {},
   "source": [
    "### Operations on lists"
   ]
  },
  {
   "cell_type": "code",
   "execution_count": 43,
   "id": "5604590d",
   "metadata": {},
   "outputs": [
    {
     "name": "stdout",
     "output_type": "stream",
     "text": [
      "[0, 0, 0, 0, 0, 0, 0, 0, 0, 0, 0, 0, 0, 0, 0, 0, 0, 0, 0, 0, 0, 0, 0, 0, 0, 0, 0, 0, 0, 0, 0, 0, 0, 0, 0, 0, 0, 0, 0, 0, 0, 0, 0, 0, 0, 0, 0, 0, 0, 0, 0, 0, 0, 0, 0, 0, 0, 0, 0, 0, 0, 0, 0, 0, 0, 0, 0, 0, 0, 0, 0, 0, 0, 0, 0, 0, 0, 0, 0, 0, 0, 0, 0, 0, 0, 0, 0, 0, 0, 0, 0, 0, 0, 0, 0, 0, 0, 0, 0, 0]\n"
     ]
    }
   ],
   "source": [
    "x=[0]*100\n",
    "print(x)"
   ]
  },
  {
   "cell_type": "code",
   "execution_count": 44,
   "id": "c4170777",
   "metadata": {},
   "outputs": [
    {
     "name": "stdout",
     "output_type": "stream",
     "text": [
      "['a', 'b', 'c', 'd']\n"
     ]
    }
   ],
   "source": [
    "print(letter)"
   ]
  },
  {
   "cell_type": "code",
   "execution_count": 45,
   "id": "f5ea7de8",
   "metadata": {},
   "outputs": [
    {
     "name": "stdout",
     "output_type": "stream",
     "text": [
      "['hola', 'como estas', 'bien y tu']\n"
     ]
    }
   ],
   "source": [
    "print(stg)"
   ]
  },
  {
   "cell_type": "code",
   "execution_count": 46,
   "id": "a3f116dc",
   "metadata": {},
   "outputs": [
    {
     "name": "stdout",
     "output_type": "stream",
     "text": [
      "['a', 'b', 'c', 'd', 'hola', 'como estas', 'bien y tu']\n"
     ]
    }
   ],
   "source": [
    "conc = letter + stg\n",
    "print(conc)"
   ]
  },
  {
   "cell_type": "code",
   "execution_count": 47,
   "id": "b0e3aaf4",
   "metadata": {},
   "outputs": [
    {
     "name": "stdout",
     "output_type": "stream",
     "text": [
      "['h', 'e', 'y', ' ', 't', 'h', 'e', 'r', 'e']\n"
     ]
    }
   ],
   "source": [
    "var=list('hey there')\n",
    "print(var)"
   ]
  },
  {
   "cell_type": "code",
   "execution_count": 48,
   "id": "e7b7e22f",
   "metadata": {},
   "outputs": [],
   "source": [
    "# don't unerstand very well\n",
    "one, *other=num"
   ]
  },
  {
   "cell_type": "code",
   "execution_count": 49,
   "id": "97ade237",
   "metadata": {},
   "outputs": [
    {
     "name": "stdout",
     "output_type": "stream",
     "text": [
      "1\n",
      "[2, 3, 4]\n"
     ]
    }
   ],
   "source": [
    "print(one)\n",
    "print(other)"
   ]
  },
  {
   "cell_type": "markdown",
   "id": "9e8277c5",
   "metadata": {},
   "source": [
    "### Method in Lists"
   ]
  },
  {
   "cell_type": "code",
   "execution_count": 50,
   "id": "a12151ad",
   "metadata": {},
   "outputs": [
    {
     "name": "stdout",
     "output_type": "stream",
     "text": [
      "[1, 2, 3, 4, 6]\n"
     ]
    }
   ],
   "source": [
    "num.append(6)\n",
    "print(num)"
   ]
  },
  {
   "cell_type": "code",
   "execution_count": 52,
   "id": "d3e835dd",
   "metadata": {},
   "outputs": [
    {
     "name": "stdout",
     "output_type": "stream",
     "text": [
      "[1, 2, 3, 4, 6, 'hola', 'como estas', 'bien y tu']\n"
     ]
    }
   ],
   "source": [
    "num.extend(stg)\n",
    "print(num)"
   ]
  },
  {
   "cell_type": "code",
   "execution_count": 53,
   "id": "5abbbde5",
   "metadata": {},
   "outputs": [],
   "source": [
    "num.insert(5,'simplylearn')"
   ]
  },
  {
   "cell_type": "code",
   "execution_count": 54,
   "id": "0cb5baa8",
   "metadata": {},
   "outputs": [
    {
     "name": "stdout",
     "output_type": "stream",
     "text": [
      "[1, 2, 3, 4, 6, 'simplylearn', 'hola', 'como estas', 'bien y tu']\n"
     ]
    }
   ],
   "source": [
    "print(num)"
   ]
  },
  {
   "cell_type": "code",
   "execution_count": 55,
   "id": "0ac1e1e0",
   "metadata": {},
   "outputs": [
    {
     "name": "stdout",
     "output_type": "stream",
     "text": [
      "[1, 2, 3, 4, 6, 'hola', 'como estas', 'bien y tu']\n"
     ]
    }
   ],
   "source": [
    "num.remove('simplylearn')\n",
    "print(num)"
   ]
  },
  {
   "cell_type": "code",
   "execution_count": 56,
   "id": "498ae7c4",
   "metadata": {},
   "outputs": [
    {
     "name": "stdout",
     "output_type": "stream",
     "text": [
      "['a', 'q', 'r', 'x', 'y', 'z']\n"
     ]
    }
   ],
   "source": [
    "var1=['z','y','x','q','r','a']\n",
    "var1.sort()\n",
    "print(var1)"
   ]
  },
  {
   "cell_type": "markdown",
   "id": "6ca9c7e0",
   "metadata": {},
   "source": [
    "### Built-in functions with lists"
   ]
  },
  {
   "cell_type": "code",
   "execution_count": 57,
   "id": "d2fb9772",
   "metadata": {},
   "outputs": [],
   "source": [
    "x=[3,2,5,6,7,8]"
   ]
  },
  {
   "cell_type": "code",
   "execution_count": 58,
   "id": "54b5bc67",
   "metadata": {},
   "outputs": [
    {
     "data": {
      "text/plain": [
       "6"
      ]
     },
     "execution_count": 58,
     "metadata": {},
     "output_type": "execute_result"
    }
   ],
   "source": [
    "len(x)\n"
   ]
  },
  {
   "cell_type": "code",
   "execution_count": 59,
   "id": "e08eb6e7",
   "metadata": {},
   "outputs": [
    {
     "data": {
      "text/plain": [
       "2"
      ]
     },
     "execution_count": 59,
     "metadata": {},
     "output_type": "execute_result"
    }
   ],
   "source": [
    "min(x)"
   ]
  },
  {
   "cell_type": "code",
   "execution_count": 60,
   "id": "d65961cf",
   "metadata": {},
   "outputs": [
    {
     "data": {
      "text/plain": [
       "8"
      ]
     },
     "execution_count": 60,
     "metadata": {},
     "output_type": "execute_result"
    }
   ],
   "source": [
    "max(x)"
   ]
  },
  {
   "cell_type": "code",
   "execution_count": 61,
   "id": "3ad139e8",
   "metadata": {},
   "outputs": [
    {
     "data": {
      "text/plain": [
       "31"
      ]
     },
     "execution_count": 61,
     "metadata": {},
     "output_type": "execute_result"
    }
   ],
   "source": [
    "sum(x)"
   ]
  },
  {
   "cell_type": "code",
   "execution_count": 63,
   "id": "ff99d777",
   "metadata": {},
   "outputs": [
    {
     "data": {
      "text/plain": [
       "5.166666666666667"
      ]
     },
     "execution_count": 63,
     "metadata": {},
     "output_type": "execute_result"
    }
   ],
   "source": [
    "sum(x)/len(x)\n"
   ]
  },
  {
   "cell_type": "code",
   "execution_count": null,
   "id": "a99b7f66",
   "metadata": {},
   "outputs": [],
   "source": []
  }
 ],
 "metadata": {
  "kernelspec": {
   "display_name": "Python 3 (ipykernel)",
   "language": "python",
   "name": "python3"
  },
  "language_info": {
   "codemirror_mode": {
    "name": "ipython",
    "version": 3
   },
   "file_extension": ".py",
   "mimetype": "text/x-python",
   "name": "python",
   "nbconvert_exporter": "python",
   "pygments_lexer": "ipython3",
   "version": "3.9.7"
  }
 },
 "nbformat": 4,
 "nbformat_minor": 5
}
